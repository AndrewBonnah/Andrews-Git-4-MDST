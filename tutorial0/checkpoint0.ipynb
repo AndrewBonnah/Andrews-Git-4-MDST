{
 "cells": [
  {
   "cell_type": "markdown",
   "metadata": {
    "colab_type": "text",
    "id": "0a8IYAJUshu1"
   },
   "source": [
    "# Checkpoint 0 "
   ]
  },
  {
   "cell_type": "markdown",
   "metadata": {},
   "source": [
    "These exercises are a mix of Python and Pandas practice. Most should be no more than a few lines of code! "
   ]
  },
  {
   "cell_type": "code",
   "execution_count": null,
   "metadata": {
    "colab": {},
    "colab_type": "code",
    "id": "Jo6wuTgkshu1"
   },
   "outputs": [],
   "source": [
    "# here is a Python list:\n",
    "\n",
    "a = [1, 2, 3, 4, 5, 6]\n"
   ]
  },
  {
   "cell_type": "code",
   "execution_count": null,
   "id": "779d96b1",
   "metadata": {},
   "outputs": [],
   "source": [
    "# get a list containing the last 3 elements of a\n",
    "# Yes, you can just type out [4, 5, 6] but we really want to see you demonstrate you know how to use list slicing in Python\n",
    "a_slice = a[:-3]"
   ]
  },
  {
   "cell_type": "code",
   "execution_count": null,
   "id": "b6a54def",
   "metadata": {},
   "outputs": [],
   "source": [
    "# create a list of numbers from 1 to 20\n",
    "list_to_20 = list(range(1,21))"
   ]
  },
  {
   "cell_type": "code",
   "execution_count": null,
   "id": "487873ac",
   "metadata": {},
   "outputs": [],
   "source": [
    "# now get a list with only the even numbers between 1 and 100\n",
    "# you may or may not make use of the list you made in the last cell\n",
    "even_to_100 = list(range(2,101,2))\n"
   ]
  },
  {
   "cell_type": "code",
   "execution_count": null,
   "id": "3d4bb5dd",
   "metadata": {},
   "outputs": [],
   "source": [
    "# write a function that takes two numbers as arguments\n",
    "# and returns the first number divided by the second\n",
    "def div_func(first, second):\n",
    "    return first/second"
   ]
  },
  {
   "cell_type": "code",
   "execution_count": null,
   "id": "b93669fa",
   "metadata": {},
   "outputs": [],
   "source": [
    "# write a function that takes a string as input\n",
    "# and return that string in all caps\n",
    "def strfun(strinp):\n",
    "    return strinp.upper()"
   ]
  },
  {
   "cell_type": "code",
   "execution_count": null,
   "id": "f55df04e",
   "metadata": {},
   "outputs": [],
   "source": [
    "# fizzbuzz\n",
    "# you will need to use both iteration and control flow \n",
    "# go through all numbers from 1 to 30 in order\n",
    "# if the number is a multiple of 3, print fizz\n",
    "# if the number is a multiple of 5, print buzz\n",
    "# if the number is a multiple of 3 and 5, print fizzbuzz and NOTHING ELSE\n",
    "# if the number is neither a multiple of 3 nor a multiple of 5, print the number\n",
    "range_30 = list(range(1,31))\n",
    "for num in range_30:\n",
    "    if (num % 3) and (num % 5):\n",
    "        print(\"fizzbuzz\")\n",
    "    elif num % 3 == 0:\n",
    "        print(\"fizz\")\n",
    "    elif num % 5 == 0:\n",
    "        print(\"buzz\")\n",
    "    else:\n",
    "        print(num)"
   ]
  },
  {
   "cell_type": "code",
   "execution_count": null,
   "id": "78aace0b",
   "metadata": {},
   "outputs": [],
   "source": [
    "# create a dictionary that reflects the following menu pricing (taken from Ahmo's)\n",
    "# Gyro: $9 \n",
    "# Burger: $9\n",
    "# Greek Salad: $8\n",
    "# Philly Steak: $10\n",
    "menu_dict = {\"Gyro\": 9, \"Burger\": 9, \"Greek Salad\": 8, \"Philly Steak\": 10}"
   ]
  },
  {
   "cell_type": "code",
   "execution_count": null,
   "metadata": {
    "colab": {},
    "colab_type": "code",
    "id": "WzCQ5HOJshvA"
   },
   "outputs": [],
   "source": [
    "# load in the \"starbucks.csv\" dataset\n",
    "# refer to how we read the cereal.csv dataset in the tutorial\n",
    "\n",
    "# Initialize an empty list to store the data\n",
    "starbucks_data = []\n",
    "\n",
    "# Open the CSV file for reading\n",
    "with open(\"starbucks.csv\", \"r\") as StarbucksData:\n",
    "    csv_reader = csv.reader(StarbucksData)\n",
    "    for line in csv_reader:\n",
    "        print(line)\n",
    "        \n",
    "    \n",
    "    \n",
    "    "
   ]
  },
  {
   "cell_type": "code",
   "execution_count": null,
   "id": "68210b5f",
   "metadata": {},
   "outputs": [],
   "source": [
    "# output the calories, sugars, and protein columns only of every 40th row. \n",
    "for i, row in enumerate(csv_reader):\n",
    "        if i % 40 == 0:  # Select every 40th row\n",
    "            selected_rows.append([row[3], row[11], row[12]])\n",
    "    "
   ]
  },
  {
   "cell_type": "code",
   "execution_count": null,
   "id": "ac0f0c12",
   "metadata": {},
   "outputs": [],
   "source": [
    "# select all rows with more than and including 400 calories\n",
    "selected_rows = []\n",
    "for row in csv_reader:\n",
    "    if int(row[3]) >= 400:\n",
    "        selected_rows.append(row[3])\n"
   ]
  },
  {
   "cell_type": "code",
   "execution_count": null,
   "id": "ee8f8241",
   "metadata": {},
   "outputs": [],
   "source": [
    "# select all rows whose vitamin c content is higher than the iron content\n",
    "\n",
    "for row in csv_reader:\n",
    "        # Convert the vitamin c and iron values to float and compare\n",
    "        vitamin_c_content = float(row[14])\n",
    "        iron_content = float(row[16])\n",
    "\n",
    "        if vitamin_c_content > iron_content:\n",
    "            selected_rows.append(row)"
   ]
  },
  {
   "cell_type": "code",
   "execution_count": null,
   "id": "d4de48bb",
   "metadata": {},
   "outputs": [],
   "source": [
    "# create a new column containing the caffeine per calories of each drink\n",
    "    for row in csv_reader:\n",
    "        # Be sure to add error checking here in case the 'calories' is 0 or if the values are not numbers\n",
    "        caffeine_per_calorie = float(row[caffeine_column_index]) / float(row[calories_column_index])\n",
    "        row.append(caffeine_per_calorie)\n",
    "        data_with_new_column.append(row)\n",
    "        except ValueError:\n",
    "            pass\n",
    "        except ZeroDivisionError:\n",
    "            pass"
   ]
  },
  {
   "cell_type": "code",
   "execution_count": null,
   "metadata": {
    "colab": {},
    "colab_type": "code",
    "id": "rIoxaSxHshvB"
   },
   "outputs": [],
   "source": [
    "# what is the average calorie across all items?\n",
    "row_list =[]\n",
    "total = 0\n",
    "for row in csv_reader:\n",
    "    row_list.append(calories_column_index)\n",
    "for i in row_list:\n",
    "    total += i\n",
    "total_aver = total / len(row_list)"
   ]
  },
  {
   "cell_type": "code",
   "execution_count": null,
   "metadata": {
    "colab": {},
    "colab_type": "code",
    "id": "ABX7i49FshvD"
   },
   "outputs": [],
   "source": [
    "# how many different categories of beverages are there?\n",
    "row_list = []\n",
    "bev_list = []\n",
    "for row in csv_reader:\n",
    "    row_list.append(beverage_index)\n",
    "for i in row_list:\n",
    "    if i not in bev_list:\n",
    "        bev_list.append(i)\n",
    "    else:\n",
    "        pass\n",
    "categories_count = len(bev_list)\n",
    "\n"
   ]
  },
  {
   "cell_type": "code",
   "execution_count": null,
   "metadata": {
    "colab": {},
    "colab_type": "code",
    "id": "P9QatZAzshvE"
   },
   "outputs": [],
   "source": [
    "# what is the average # calories for each beverage category?\n",
    "new_dict = {}\n",
    "next(csv_reader)\n",
    "for row in csv_reader:\n",
    "    if row[0] not in new_dict.keys():\n",
    "        # if the key is not in the dictionary, set the value to a list containing row[3]\n",
    "        new_dict[row[0]] = [row[3]]\n",
    "    else:\n",
    "        # if the key is already in the dictionary, append row[3] to the existing list\n",
    "        new_dict[row[0]].append(row[3])\n",
    "\n",
    "    "
   ]
  },
  {
   "cell_type": "code",
   "execution_count": null,
   "metadata": {},
   "outputs": [],
   "source": [
    "# plot the distribution of the number of calories in drinks with a histogram\n",
    "import csv\n",
    "import matplotlib.pyplot as plt\n",
    "\n",
    "calories_column_index = 2  # Adjust according to your data\n",
    "\n",
    "calories_data = []\n",
    "\n",
    "with open('data.csv', 'r') as file:\n",
    "    csv_reader = csv.reader(file)\n",
    "    next(csv_reader)  # Skip the header\n",
    "\n",
    "    for row in csv_reader:\n",
    "        calories_data.append(float(row[calories_column_index]))\n",
    "\n",
    "# Create a histogram using matplotlib\n",
    "plt.hist(calories_data, bins='auto')  # Change 'auto' to the desired number of bins\n",
    "plt.title('Distribution of Calories in Beverages')\n",
    "plt.xlabel('Calories')\n",
    "plt.ylabel('Frequency')\n",
    "plt.show()\n"
   ]
  },
  {
   "cell_type": "code",
   "execution_count": null,
   "metadata": {},
   "outputs": [],
   "source": [
    "# plot calories against total fat with a scatterplot\n",
    "To create a scatterplot using matplotlib library for Python using data from a CSV file, you would need to extract the data you want to plot from the CSV first. Assuming you have a dataset in a CSV file and you know the indices for columns 'calories' and 'total fat' (let's say 2 and 3 respectively), here's a Python script that shows how you can achieve this:\n",
    "\n",
    "import csv\n",
    "import matplotlib.pyplot as plt\n",
    "\n",
    "calories_column_index = 2  # Adjust according to your data\n",
    "total_fat_column_index = 3  # Adjust according to your data\n",
    "\n",
    "calories_data = []\n",
    "total_fat_data = []\n",
    "\n",
    "with open('data.csv', 'r') as file:\n",
    "    csv_reader = csv.reader(file)\n",
    "    next(csv_reader)  # Skip the header\n",
    "\n",
    "    for row in csv_reader:\n",
    "        calories_data.append(float(row[calories_column_index]))\n",
    "        total_fat_data.append(float(row[total_fat_column_index]))\n",
    "\n",
    "# Create a scatter plot using matplotlib\n",
    "plt.scatter(calories_data, total_fat_data)\n",
    "plt.title('Calories vs Total Fat in Beverages')\n",
    "plt.xlabel('Calories')\n",
    "plt.ylabel('Total Fat')\n",
    "plt.show()"
   ]
  }
 ],
 "metadata": {
  "kernelspec": {
   "display_name": "Python 3.9.0 64-bit",
   "language": "python",
   "name": "python3"
  },
  "language_info": {
   "codemirror_mode": {
    "name": "ipython",
    "version": 3
   },
   "file_extension": ".py",
   "mimetype": "text/x-python",
   "name": "python",
   "nbconvert_exporter": "python",
   "pygments_lexer": "ipython3",
   "version": "3.9.0"
  },
  "vscode": {
   "interpreter": {
    "hash": "6cf8df3ff69f85f626faf55c10df6fe2cb9d1236b4dc73844ee4dc01369c2c99"
   }
  }
 },
 "nbformat": 4,
 "nbformat_minor": 5
}
